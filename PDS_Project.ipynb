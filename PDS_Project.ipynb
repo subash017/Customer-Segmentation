{
  "nbformat": 4,
  "nbformat_minor": 0,
  "metadata": {
    "colab": {
      "name": "PDS_Project.ipynb",
      "provenance": [],
      "collapsed_sections": []
    },
    "kernelspec": {
      "name": "python3",
      "display_name": "Python 3"
    },
    "language_info": {
      "name": "python"
    }
  },
  "cells": [
    {
      "cell_type": "markdown",
      "source": [
        "# **Importing the necessary libraries**"
      ],
      "metadata": {
        "id": "b3gdSO9OOp8t"
      }
    },
    {
      "cell_type": "code",
      "source": [
        "import pandas as pd\n",
        "import numpy as np\n",
        "from sklearn import metrics\n",
        "from scipy.spatial.distance import cdist\n",
        "import matplotlib.pyplot as plt\n",
        "%matplotlib inline"
      ],
      "metadata": {
        "id": "W4oILAjydEc0"
      },
      "execution_count": 296,
      "outputs": []
    },
    {
      "cell_type": "code",
      "execution_count": 297,
      "metadata": {
        "id": "6ijkCR_qWxFo",
        "colab": {
          "base_uri": "https://localhost:8080/"
        },
        "outputId": "b47f34ca-902f-41c6-d820-b158d53e8634"
      },
      "outputs": [
        {
          "output_type": "stream",
          "name": "stdout",
          "text": [
            "Drive already mounted at /content/drive; to attempt to forcibly remount, call drive.mount(\"/content/drive\", force_remount=True).\n"
          ]
        }
      ],
      "source": [
        "#Mounting to Google drive\n",
        "from google.colab import drive\n",
        "drive.mount('/content/drive')"
      ]
    },
    {
      "cell_type": "markdown",
      "source": [
        "# **Changing path to the location where the Dataset is downloaded**"
      ],
      "metadata": {
        "id": "bu1QTQVdPZY6"
      }
    },
    {
      "cell_type": "code",
      "source": [
        "%cd /content/drive/MyDrive"
      ],
      "metadata": {
        "colab": {
          "base_uri": "https://localhost:8080/"
        },
        "id": "8iFMrK00a4wM",
        "outputId": "dcd36535-fa9b-4c4a-cf3a-dd85e7149ca8"
      },
      "execution_count": 298,
      "outputs": [
        {
          "output_type": "stream",
          "name": "stdout",
          "text": [
            "/content/drive/MyDrive\n"
          ]
        }
      ]
    },
    {
      "cell_type": "code",
      "source": [
        "#!unzip -xvf \"customer-segmentation-dataset.zip\" -d \"/content/drive/MyDrive/output_folder\" "
      ],
      "metadata": {
        "id": "RCG9KHF1aRtK"
      },
      "execution_count": 299,
      "outputs": []
    },
    {
      "cell_type": "markdown",
      "source": [
        "# **Loading the dataset**"
      ],
      "metadata": {
        "id": "RbpMuZT4Pm2k"
      }
    },
    {
      "cell_type": "code",
      "source": [
        "data = pd.read_csv('Mall_Customers.csv')"
      ],
      "metadata": {
        "id": "gBtAa6sfbkBk"
      },
      "execution_count": 300,
      "outputs": []
    },
    {
      "cell_type": "code",
      "source": [
        "#Loading the first five rows of the dataset\n",
        "data.head()"
      ],
      "metadata": {
        "colab": {
          "base_uri": "https://localhost:8080/",
          "height": 207
        },
        "id": "0tF3hU0cQBDX",
        "outputId": "5f7351eb-cf1e-47e6-874e-f04fdd881254"
      },
      "execution_count": 301,
      "outputs": [
        {
          "output_type": "execute_result",
          "data": {
            "text/plain": [
              "   CustomerID  Gender  Age  Annual Income (k$)  Spending Score (1-100)\n",
              "0           1    Male   19                  15                      39\n",
              "1           2    Male   21                  15                      81\n",
              "2           3  Female   20                  16                       6\n",
              "3           4  Female   23                  16                      77\n",
              "4           5  Female   31                  17                      40"
            ],
            "text/html": [
              "\n",
              "  <div id=\"df-a1b5ebfd-57d5-4ab6-8653-65a2f99e70f9\">\n",
              "    <div class=\"colab-df-container\">\n",
              "      <div>\n",
              "<style scoped>\n",
              "    .dataframe tbody tr th:only-of-type {\n",
              "        vertical-align: middle;\n",
              "    }\n",
              "\n",
              "    .dataframe tbody tr th {\n",
              "        vertical-align: top;\n",
              "    }\n",
              "\n",
              "    .dataframe thead th {\n",
              "        text-align: right;\n",
              "    }\n",
              "</style>\n",
              "<table border=\"1\" class=\"dataframe\">\n",
              "  <thead>\n",
              "    <tr style=\"text-align: right;\">\n",
              "      <th></th>\n",
              "      <th>CustomerID</th>\n",
              "      <th>Gender</th>\n",
              "      <th>Age</th>\n",
              "      <th>Annual Income (k$)</th>\n",
              "      <th>Spending Score (1-100)</th>\n",
              "    </tr>\n",
              "  </thead>\n",
              "  <tbody>\n",
              "    <tr>\n",
              "      <th>0</th>\n",
              "      <td>1</td>\n",
              "      <td>Male</td>\n",
              "      <td>19</td>\n",
              "      <td>15</td>\n",
              "      <td>39</td>\n",
              "    </tr>\n",
              "    <tr>\n",
              "      <th>1</th>\n",
              "      <td>2</td>\n",
              "      <td>Male</td>\n",
              "      <td>21</td>\n",
              "      <td>15</td>\n",
              "      <td>81</td>\n",
              "    </tr>\n",
              "    <tr>\n",
              "      <th>2</th>\n",
              "      <td>3</td>\n",
              "      <td>Female</td>\n",
              "      <td>20</td>\n",
              "      <td>16</td>\n",
              "      <td>6</td>\n",
              "    </tr>\n",
              "    <tr>\n",
              "      <th>3</th>\n",
              "      <td>4</td>\n",
              "      <td>Female</td>\n",
              "      <td>23</td>\n",
              "      <td>16</td>\n",
              "      <td>77</td>\n",
              "    </tr>\n",
              "    <tr>\n",
              "      <th>4</th>\n",
              "      <td>5</td>\n",
              "      <td>Female</td>\n",
              "      <td>31</td>\n",
              "      <td>17</td>\n",
              "      <td>40</td>\n",
              "    </tr>\n",
              "  </tbody>\n",
              "</table>\n",
              "</div>\n",
              "      <button class=\"colab-df-convert\" onclick=\"convertToInteractive('df-a1b5ebfd-57d5-4ab6-8653-65a2f99e70f9')\"\n",
              "              title=\"Convert this dataframe to an interactive table.\"\n",
              "              style=\"display:none;\">\n",
              "        \n",
              "  <svg xmlns=\"http://www.w3.org/2000/svg\" height=\"24px\"viewBox=\"0 0 24 24\"\n",
              "       width=\"24px\">\n",
              "    <path d=\"M0 0h24v24H0V0z\" fill=\"none\"/>\n",
              "    <path d=\"M18.56 5.44l.94 2.06.94-2.06 2.06-.94-2.06-.94-.94-2.06-.94 2.06-2.06.94zm-11 1L8.5 8.5l.94-2.06 2.06-.94-2.06-.94L8.5 2.5l-.94 2.06-2.06.94zm10 10l.94 2.06.94-2.06 2.06-.94-2.06-.94-.94-2.06-.94 2.06-2.06.94z\"/><path d=\"M17.41 7.96l-1.37-1.37c-.4-.4-.92-.59-1.43-.59-.52 0-1.04.2-1.43.59L10.3 9.45l-7.72 7.72c-.78.78-.78 2.05 0 2.83L4 21.41c.39.39.9.59 1.41.59.51 0 1.02-.2 1.41-.59l7.78-7.78 2.81-2.81c.8-.78.8-2.07 0-2.86zM5.41 20L4 18.59l7.72-7.72 1.47 1.35L5.41 20z\"/>\n",
              "  </svg>\n",
              "      </button>\n",
              "      \n",
              "  <style>\n",
              "    .colab-df-container {\n",
              "      display:flex;\n",
              "      flex-wrap:wrap;\n",
              "      gap: 12px;\n",
              "    }\n",
              "\n",
              "    .colab-df-convert {\n",
              "      background-color: #E8F0FE;\n",
              "      border: none;\n",
              "      border-radius: 50%;\n",
              "      cursor: pointer;\n",
              "      display: none;\n",
              "      fill: #1967D2;\n",
              "      height: 32px;\n",
              "      padding: 0 0 0 0;\n",
              "      width: 32px;\n",
              "    }\n",
              "\n",
              "    .colab-df-convert:hover {\n",
              "      background-color: #E2EBFA;\n",
              "      box-shadow: 0px 1px 2px rgba(60, 64, 67, 0.3), 0px 1px 3px 1px rgba(60, 64, 67, 0.15);\n",
              "      fill: #174EA6;\n",
              "    }\n",
              "\n",
              "    [theme=dark] .colab-df-convert {\n",
              "      background-color: #3B4455;\n",
              "      fill: #D2E3FC;\n",
              "    }\n",
              "\n",
              "    [theme=dark] .colab-df-convert:hover {\n",
              "      background-color: #434B5C;\n",
              "      box-shadow: 0px 1px 3px 1px rgba(0, 0, 0, 0.15);\n",
              "      filter: drop-shadow(0px 1px 2px rgba(0, 0, 0, 0.3));\n",
              "      fill: #FFFFFF;\n",
              "    }\n",
              "  </style>\n",
              "\n",
              "      <script>\n",
              "        const buttonEl =\n",
              "          document.querySelector('#df-a1b5ebfd-57d5-4ab6-8653-65a2f99e70f9 button.colab-df-convert');\n",
              "        buttonEl.style.display =\n",
              "          google.colab.kernel.accessAllowed ? 'block' : 'none';\n",
              "\n",
              "        async function convertToInteractive(key) {\n",
              "          const element = document.querySelector('#df-a1b5ebfd-57d5-4ab6-8653-65a2f99e70f9');\n",
              "          const dataTable =\n",
              "            await google.colab.kernel.invokeFunction('convertToInteractive',\n",
              "                                                     [key], {});\n",
              "          if (!dataTable) return;\n",
              "\n",
              "          const docLinkHtml = 'Like what you see? Visit the ' +\n",
              "            '<a target=\"_blank\" href=https://colab.research.google.com/notebooks/data_table.ipynb>data table notebook</a>'\n",
              "            + ' to learn more about interactive tables.';\n",
              "          element.innerHTML = '';\n",
              "          dataTable['output_type'] = 'display_data';\n",
              "          await google.colab.output.renderOutput(dataTable, element);\n",
              "          const docLink = document.createElement('div');\n",
              "          docLink.innerHTML = docLinkHtml;\n",
              "          element.appendChild(docLink);\n",
              "        }\n",
              "      </script>\n",
              "    </div>\n",
              "  </div>\n",
              "  "
            ]
          },
          "metadata": {},
          "execution_count": 301
        }
      ]
    },
    {
      "cell_type": "markdown",
      "source": [
        "# **Descriptive statistics of the numerical attributes of the dataset**"
      ],
      "metadata": {
        "id": "U7PHZwnGPsBQ"
      }
    },
    {
      "cell_type": "code",
      "source": [
        "data.describe()"
      ],
      "metadata": {
        "colab": {
          "base_uri": "https://localhost:8080/",
          "height": 300
        },
        "id": "Plrkn6qgQmBB",
        "outputId": "c6600fb2-7f09-4561-8ff6-3cf03e78e862"
      },
      "execution_count": 302,
      "outputs": [
        {
          "output_type": "execute_result",
          "data": {
            "text/plain": [
              "       CustomerID         Age  Annual Income (k$)  Spending Score (1-100)\n",
              "count  200.000000  200.000000          200.000000              200.000000\n",
              "mean   100.500000   38.850000           60.560000               50.200000\n",
              "std     57.879185   13.969007           26.264721               25.823522\n",
              "min      1.000000   18.000000           15.000000                1.000000\n",
              "25%     50.750000   28.750000           41.500000               34.750000\n",
              "50%    100.500000   36.000000           61.500000               50.000000\n",
              "75%    150.250000   49.000000           78.000000               73.000000\n",
              "max    200.000000   70.000000          137.000000               99.000000"
            ],
            "text/html": [
              "\n",
              "  <div id=\"df-70e86fd6-af6f-4be5-bb78-c5704cfa2d68\">\n",
              "    <div class=\"colab-df-container\">\n",
              "      <div>\n",
              "<style scoped>\n",
              "    .dataframe tbody tr th:only-of-type {\n",
              "        vertical-align: middle;\n",
              "    }\n",
              "\n",
              "    .dataframe tbody tr th {\n",
              "        vertical-align: top;\n",
              "    }\n",
              "\n",
              "    .dataframe thead th {\n",
              "        text-align: right;\n",
              "    }\n",
              "</style>\n",
              "<table border=\"1\" class=\"dataframe\">\n",
              "  <thead>\n",
              "    <tr style=\"text-align: right;\">\n",
              "      <th></th>\n",
              "      <th>CustomerID</th>\n",
              "      <th>Age</th>\n",
              "      <th>Annual Income (k$)</th>\n",
              "      <th>Spending Score (1-100)</th>\n",
              "    </tr>\n",
              "  </thead>\n",
              "  <tbody>\n",
              "    <tr>\n",
              "      <th>count</th>\n",
              "      <td>200.000000</td>\n",
              "      <td>200.000000</td>\n",
              "      <td>200.000000</td>\n",
              "      <td>200.000000</td>\n",
              "    </tr>\n",
              "    <tr>\n",
              "      <th>mean</th>\n",
              "      <td>100.500000</td>\n",
              "      <td>38.850000</td>\n",
              "      <td>60.560000</td>\n",
              "      <td>50.200000</td>\n",
              "    </tr>\n",
              "    <tr>\n",
              "      <th>std</th>\n",
              "      <td>57.879185</td>\n",
              "      <td>13.969007</td>\n",
              "      <td>26.264721</td>\n",
              "      <td>25.823522</td>\n",
              "    </tr>\n",
              "    <tr>\n",
              "      <th>min</th>\n",
              "      <td>1.000000</td>\n",
              "      <td>18.000000</td>\n",
              "      <td>15.000000</td>\n",
              "      <td>1.000000</td>\n",
              "    </tr>\n",
              "    <tr>\n",
              "      <th>25%</th>\n",
              "      <td>50.750000</td>\n",
              "      <td>28.750000</td>\n",
              "      <td>41.500000</td>\n",
              "      <td>34.750000</td>\n",
              "    </tr>\n",
              "    <tr>\n",
              "      <th>50%</th>\n",
              "      <td>100.500000</td>\n",
              "      <td>36.000000</td>\n",
              "      <td>61.500000</td>\n",
              "      <td>50.000000</td>\n",
              "    </tr>\n",
              "    <tr>\n",
              "      <th>75%</th>\n",
              "      <td>150.250000</td>\n",
              "      <td>49.000000</td>\n",
              "      <td>78.000000</td>\n",
              "      <td>73.000000</td>\n",
              "    </tr>\n",
              "    <tr>\n",
              "      <th>max</th>\n",
              "      <td>200.000000</td>\n",
              "      <td>70.000000</td>\n",
              "      <td>137.000000</td>\n",
              "      <td>99.000000</td>\n",
              "    </tr>\n",
              "  </tbody>\n",
              "</table>\n",
              "</div>\n",
              "      <button class=\"colab-df-convert\" onclick=\"convertToInteractive('df-70e86fd6-af6f-4be5-bb78-c5704cfa2d68')\"\n",
              "              title=\"Convert this dataframe to an interactive table.\"\n",
              "              style=\"display:none;\">\n",
              "        \n",
              "  <svg xmlns=\"http://www.w3.org/2000/svg\" height=\"24px\"viewBox=\"0 0 24 24\"\n",
              "       width=\"24px\">\n",
              "    <path d=\"M0 0h24v24H0V0z\" fill=\"none\"/>\n",
              "    <path d=\"M18.56 5.44l.94 2.06.94-2.06 2.06-.94-2.06-.94-.94-2.06-.94 2.06-2.06.94zm-11 1L8.5 8.5l.94-2.06 2.06-.94-2.06-.94L8.5 2.5l-.94 2.06-2.06.94zm10 10l.94 2.06.94-2.06 2.06-.94-2.06-.94-.94-2.06-.94 2.06-2.06.94z\"/><path d=\"M17.41 7.96l-1.37-1.37c-.4-.4-.92-.59-1.43-.59-.52 0-1.04.2-1.43.59L10.3 9.45l-7.72 7.72c-.78.78-.78 2.05 0 2.83L4 21.41c.39.39.9.59 1.41.59.51 0 1.02-.2 1.41-.59l7.78-7.78 2.81-2.81c.8-.78.8-2.07 0-2.86zM5.41 20L4 18.59l7.72-7.72 1.47 1.35L5.41 20z\"/>\n",
              "  </svg>\n",
              "      </button>\n",
              "      \n",
              "  <style>\n",
              "    .colab-df-container {\n",
              "      display:flex;\n",
              "      flex-wrap:wrap;\n",
              "      gap: 12px;\n",
              "    }\n",
              "\n",
              "    .colab-df-convert {\n",
              "      background-color: #E8F0FE;\n",
              "      border: none;\n",
              "      border-radius: 50%;\n",
              "      cursor: pointer;\n",
              "      display: none;\n",
              "      fill: #1967D2;\n",
              "      height: 32px;\n",
              "      padding: 0 0 0 0;\n",
              "      width: 32px;\n",
              "    }\n",
              "\n",
              "    .colab-df-convert:hover {\n",
              "      background-color: #E2EBFA;\n",
              "      box-shadow: 0px 1px 2px rgba(60, 64, 67, 0.3), 0px 1px 3px 1px rgba(60, 64, 67, 0.15);\n",
              "      fill: #174EA6;\n",
              "    }\n",
              "\n",
              "    [theme=dark] .colab-df-convert {\n",
              "      background-color: #3B4455;\n",
              "      fill: #D2E3FC;\n",
              "    }\n",
              "\n",
              "    [theme=dark] .colab-df-convert:hover {\n",
              "      background-color: #434B5C;\n",
              "      box-shadow: 0px 1px 3px 1px rgba(0, 0, 0, 0.15);\n",
              "      filter: drop-shadow(0px 1px 2px rgba(0, 0, 0, 0.3));\n",
              "      fill: #FFFFFF;\n",
              "    }\n",
              "  </style>\n",
              "\n",
              "      <script>\n",
              "        const buttonEl =\n",
              "          document.querySelector('#df-70e86fd6-af6f-4be5-bb78-c5704cfa2d68 button.colab-df-convert');\n",
              "        buttonEl.style.display =\n",
              "          google.colab.kernel.accessAllowed ? 'block' : 'none';\n",
              "\n",
              "        async function convertToInteractive(key) {\n",
              "          const element = document.querySelector('#df-70e86fd6-af6f-4be5-bb78-c5704cfa2d68');\n",
              "          const dataTable =\n",
              "            await google.colab.kernel.invokeFunction('convertToInteractive',\n",
              "                                                     [key], {});\n",
              "          if (!dataTable) return;\n",
              "\n",
              "          const docLinkHtml = 'Like what you see? Visit the ' +\n",
              "            '<a target=\"_blank\" href=https://colab.research.google.com/notebooks/data_table.ipynb>data table notebook</a>'\n",
              "            + ' to learn more about interactive tables.';\n",
              "          element.innerHTML = '';\n",
              "          dataTable['output_type'] = 'display_data';\n",
              "          await google.colab.output.renderOutput(dataTable, element);\n",
              "          const docLink = document.createElement('div');\n",
              "          docLink.innerHTML = docLinkHtml;\n",
              "          element.appendChild(docLink);\n",
              "        }\n",
              "      </script>\n",
              "    </div>\n",
              "  </div>\n",
              "  "
            ]
          },
          "metadata": {},
          "execution_count": 302
        }
      ]
    },
    {
      "cell_type": "markdown",
      "source": [
        "# **Descriptive statistics of the categorical attributes of the dataset**"
      ],
      "metadata": {
        "id": "gCY8WxLuQqyx"
      }
    },
    {
      "cell_type": "code",
      "source": [
        "data.describe(include='object')"
      ],
      "metadata": {
        "colab": {
          "base_uri": "https://localhost:8080/",
          "height": 175
        },
        "id": "nbt4ak5AdJeM",
        "outputId": "ddf382f6-bdb9-4cd0-b448-c7a23276fbbb"
      },
      "execution_count": 303,
      "outputs": [
        {
          "output_type": "execute_result",
          "data": {
            "text/plain": [
              "        Gender\n",
              "count      200\n",
              "unique       2\n",
              "top     Female\n",
              "freq       112"
            ],
            "text/html": [
              "\n",
              "  <div id=\"df-bdc9b49d-0612-407b-bc98-7f6e4029c165\">\n",
              "    <div class=\"colab-df-container\">\n",
              "      <div>\n",
              "<style scoped>\n",
              "    .dataframe tbody tr th:only-of-type {\n",
              "        vertical-align: middle;\n",
              "    }\n",
              "\n",
              "    .dataframe tbody tr th {\n",
              "        vertical-align: top;\n",
              "    }\n",
              "\n",
              "    .dataframe thead th {\n",
              "        text-align: right;\n",
              "    }\n",
              "</style>\n",
              "<table border=\"1\" class=\"dataframe\">\n",
              "  <thead>\n",
              "    <tr style=\"text-align: right;\">\n",
              "      <th></th>\n",
              "      <th>Gender</th>\n",
              "    </tr>\n",
              "  </thead>\n",
              "  <tbody>\n",
              "    <tr>\n",
              "      <th>count</th>\n",
              "      <td>200</td>\n",
              "    </tr>\n",
              "    <tr>\n",
              "      <th>unique</th>\n",
              "      <td>2</td>\n",
              "    </tr>\n",
              "    <tr>\n",
              "      <th>top</th>\n",
              "      <td>Female</td>\n",
              "    </tr>\n",
              "    <tr>\n",
              "      <th>freq</th>\n",
              "      <td>112</td>\n",
              "    </tr>\n",
              "  </tbody>\n",
              "</table>\n",
              "</div>\n",
              "      <button class=\"colab-df-convert\" onclick=\"convertToInteractive('df-bdc9b49d-0612-407b-bc98-7f6e4029c165')\"\n",
              "              title=\"Convert this dataframe to an interactive table.\"\n",
              "              style=\"display:none;\">\n",
              "        \n",
              "  <svg xmlns=\"http://www.w3.org/2000/svg\" height=\"24px\"viewBox=\"0 0 24 24\"\n",
              "       width=\"24px\">\n",
              "    <path d=\"M0 0h24v24H0V0z\" fill=\"none\"/>\n",
              "    <path d=\"M18.56 5.44l.94 2.06.94-2.06 2.06-.94-2.06-.94-.94-2.06-.94 2.06-2.06.94zm-11 1L8.5 8.5l.94-2.06 2.06-.94-2.06-.94L8.5 2.5l-.94 2.06-2.06.94zm10 10l.94 2.06.94-2.06 2.06-.94-2.06-.94-.94-2.06-.94 2.06-2.06.94z\"/><path d=\"M17.41 7.96l-1.37-1.37c-.4-.4-.92-.59-1.43-.59-.52 0-1.04.2-1.43.59L10.3 9.45l-7.72 7.72c-.78.78-.78 2.05 0 2.83L4 21.41c.39.39.9.59 1.41.59.51 0 1.02-.2 1.41-.59l7.78-7.78 2.81-2.81c.8-.78.8-2.07 0-2.86zM5.41 20L4 18.59l7.72-7.72 1.47 1.35L5.41 20z\"/>\n",
              "  </svg>\n",
              "      </button>\n",
              "      \n",
              "  <style>\n",
              "    .colab-df-container {\n",
              "      display:flex;\n",
              "      flex-wrap:wrap;\n",
              "      gap: 12px;\n",
              "    }\n",
              "\n",
              "    .colab-df-convert {\n",
              "      background-color: #E8F0FE;\n",
              "      border: none;\n",
              "      border-radius: 50%;\n",
              "      cursor: pointer;\n",
              "      display: none;\n",
              "      fill: #1967D2;\n",
              "      height: 32px;\n",
              "      padding: 0 0 0 0;\n",
              "      width: 32px;\n",
              "    }\n",
              "\n",
              "    .colab-df-convert:hover {\n",
              "      background-color: #E2EBFA;\n",
              "      box-shadow: 0px 1px 2px rgba(60, 64, 67, 0.3), 0px 1px 3px 1px rgba(60, 64, 67, 0.15);\n",
              "      fill: #174EA6;\n",
              "    }\n",
              "\n",
              "    [theme=dark] .colab-df-convert {\n",
              "      background-color: #3B4455;\n",
              "      fill: #D2E3FC;\n",
              "    }\n",
              "\n",
              "    [theme=dark] .colab-df-convert:hover {\n",
              "      background-color: #434B5C;\n",
              "      box-shadow: 0px 1px 3px 1px rgba(0, 0, 0, 0.15);\n",
              "      filter: drop-shadow(0px 1px 2px rgba(0, 0, 0, 0.3));\n",
              "      fill: #FFFFFF;\n",
              "    }\n",
              "  </style>\n",
              "\n",
              "      <script>\n",
              "        const buttonEl =\n",
              "          document.querySelector('#df-bdc9b49d-0612-407b-bc98-7f6e4029c165 button.colab-df-convert');\n",
              "        buttonEl.style.display =\n",
              "          google.colab.kernel.accessAllowed ? 'block' : 'none';\n",
              "\n",
              "        async function convertToInteractive(key) {\n",
              "          const element = document.querySelector('#df-bdc9b49d-0612-407b-bc98-7f6e4029c165');\n",
              "          const dataTable =\n",
              "            await google.colab.kernel.invokeFunction('convertToInteractive',\n",
              "                                                     [key], {});\n",
              "          if (!dataTable) return;\n",
              "\n",
              "          const docLinkHtml = 'Like what you see? Visit the ' +\n",
              "            '<a target=\"_blank\" href=https://colab.research.google.com/notebooks/data_table.ipynb>data table notebook</a>'\n",
              "            + ' to learn more about interactive tables.';\n",
              "          element.innerHTML = '';\n",
              "          dataTable['output_type'] = 'display_data';\n",
              "          await google.colab.output.renderOutput(dataTable, element);\n",
              "          const docLink = document.createElement('div');\n",
              "          docLink.innerHTML = docLinkHtml;\n",
              "          element.appendChild(docLink);\n",
              "        }\n",
              "      </script>\n",
              "    </div>\n",
              "  </div>\n",
              "  "
            ]
          },
          "metadata": {},
          "execution_count": 303
        }
      ]
    },
    {
      "cell_type": "markdown",
      "source": [
        "# **Data Preprocessing**\n",
        "\n",
        "---\n",
        "\n"
      ],
      "metadata": {
        "id": "ekEAJivRQ58P"
      }
    },
    {
      "cell_type": "markdown",
      "source": [
        "**Removing CustomerID since it is not redundant**"
      ],
      "metadata": {
        "id": "p7Wc_yO0RHKT"
      }
    },
    {
      "cell_type": "code",
      "source": [
        "data.drop(columns = ['CustomerID'],inplace = True)"
      ],
      "metadata": {
        "id": "oT8qOWzod5_M"
      },
      "execution_count": 304,
      "outputs": []
    },
    {
      "cell_type": "markdown",
      "source": [
        "**Checking for missing values**"
      ],
      "metadata": {
        "id": "hU7p7Ul9RYD7"
      }
    },
    {
      "cell_type": "code",
      "source": [
        "data.isnull().sum()\n",
        "#There are no missing values in the dataset"
      ],
      "metadata": {
        "colab": {
          "base_uri": "https://localhost:8080/"
        },
        "id": "XrcaMr46eATM",
        "outputId": "15cd39d5-69aa-4ad2-b03f-e18b044fd715"
      },
      "execution_count": 305,
      "outputs": [
        {
          "output_type": "execute_result",
          "data": {
            "text/plain": [
              "Gender                    0\n",
              "Age                       0\n",
              "Annual Income (k$)        0\n",
              "Spending Score (1-100)    0\n",
              "dtype: int64"
            ]
          },
          "metadata": {},
          "execution_count": 305
        }
      ]
    },
    {
      "cell_type": "markdown",
      "source": [
        "**Gender is a nominal column . It is the first column in the above data frame . We will take it and do One Hot Encoding.**"
      ],
      "metadata": {
        "id": "RtvHjyQvRfHX"
      }
    },
    {
      "cell_type": "code",
      "source": [
        "data['Gender']= pd.get_dummies(data.Gender,drop_first = True)"
      ],
      "metadata": {
        "id": "P07sZZh9wZin"
      },
      "execution_count": 306,
      "outputs": []
    },
    {
      "cell_type": "markdown",
      "source": [
        "# **Model Building**"
      ],
      "metadata": {
        "id": "Mrdk-Cu7uYk-"
      }
    },
    {
      "cell_type": "code",
      "source": [
        "#Kmeans algorithm is an iterative algorithm that tries to partition the dataset into Kpre-defined distinct non-overlapping subgroups (clusters)\n",
        "#where each data point belongs to only one group. \n",
        "#It tries to make the intra-cluster data points as similar as possible while also keeping the clusters as different (far) as possible. \n",
        "from sklearn.cluster import KMeans"
      ],
      "metadata": {
        "id": "tMa1NxtJzKPr"
      },
      "execution_count": 307,
      "outputs": []
    },
    {
      "cell_type": "markdown",
      "source": [
        "**Splitting the data into training and testing**"
      ],
      "metadata": {
        "id": "QO1AFqSK59RE"
      }
    },
    {
      "cell_type": "code",
      "source": [
        "from sklearn.model_selection import train_test_split\n",
        "X_train, X_test = train_test_split(data,test_size = 0.05, random_state = 0)"
      ],
      "metadata": {
        "id": "wqUNmnW_57F4"
      },
      "execution_count": 308,
      "outputs": []
    },
    {
      "cell_type": "code",
      "source": [
        "X_train.shape"
      ],
      "metadata": {
        "colab": {
          "base_uri": "https://localhost:8080/"
        },
        "id": "nOuELQ426SWU",
        "outputId": "15084e85-b3a1-4e38-a58f-b6e6183d7193"
      },
      "execution_count": 309,
      "outputs": [
        {
          "output_type": "execute_result",
          "data": {
            "text/plain": [
              "(190, 4)"
            ]
          },
          "metadata": {},
          "execution_count": 309
        }
      ]
    },
    {
      "cell_type": "code",
      "source": [
        "X_test.shape"
      ],
      "metadata": {
        "colab": {
          "base_uri": "https://localhost:8080/"
        },
        "id": "kVCn_J_26U8z",
        "outputId": "d8ab52b5-1d4e-42df-be6d-d66834a8105f"
      },
      "execution_count": 310,
      "outputs": [
        {
          "output_type": "execute_result",
          "data": {
            "text/plain": [
              "(10, 4)"
            ]
          },
          "metadata": {},
          "execution_count": 310
        }
      ]
    },
    {
      "cell_type": "markdown",
      "source": [
        "**A fundamental step for any unsupervised algorithm is to determine the optimal number of clusters into which the data may be clustered. The Elbow Method is one of the most popular methods to determine this optimal value of k.**"
      ],
      "metadata": {
        "id": "I200zANcajih"
      }
    },
    {
      "cell_type": "code",
      "source": [
        "distortions = []\n",
        "inertias = []\n",
        "mapping1 = {}\n",
        "mapping2 = {}\n",
        "K = range(1, 10)\n",
        "X = X_train\n",
        "for k in K:\n",
        "    # Building and fitting the model\n",
        "    kmeanModel = KMeans(n_clusters=k).fit(X)\n",
        "    kmeanModel.fit(X)\n",
        " \n",
        "    distortions.append(sum(np.min(cdist(X, kmeanModel.cluster_centers_,\n",
        "                                        'euclidean'), axis=1)) / X.shape[0])\n",
        "    inertias.append(kmeanModel.inertia_)\n",
        " \n",
        "    mapping1[k] = sum(np.min(cdist(X, kmeanModel.cluster_centers_,\n",
        "                                   'euclidean'), axis=1)) / X.shape[0]\n",
        "    mapping2[k] = kmeanModel.inertia_"
      ],
      "metadata": {
        "id": "Xlaf_E8IuFCP"
      },
      "execution_count": 311,
      "outputs": []
    },
    {
      "cell_type": "markdown",
      "source": [
        "## DISORTION"
      ],
      "metadata": {
        "id": "WNVZbSQ5yF16"
      }
    },
    {
      "cell_type": "markdown",
      "source": [
        "**Distortion: It is calculated as the average of the squared distances from the cluster centers of the respective clusters. Typically, the Euclidean distance metric is used.**"
      ],
      "metadata": {
        "id": "S4wZgqAsayke"
      }
    },
    {
      "cell_type": "code",
      "source": [
        "for key, val in mapping1.items():\n",
        "    print(f'{key} : {val}')"
      ],
      "metadata": {
        "colab": {
          "base_uri": "https://localhost:8080/"
        },
        "id": "dHO8Y-VEyFFw",
        "outputId": "5402922b-56de-4b81-a7e3-64aadef7e4b4"
      },
      "execution_count": 312,
      "outputs": [
        {
          "output_type": "stream",
          "name": "stdout",
          "text": [
            "1 : 35.4815677834514\n",
            "2 : 30.094868981688894\n",
            "3 : 24.070753045711776\n",
            "4 : 20.590023637923963\n",
            "5 : 18.051823509893445\n",
            "6 : 15.618395759602436\n",
            "7 : 14.684163177012461\n",
            "8 : 13.895020078676032\n",
            "9 : 13.282489095435668\n"
          ]
        }
      ]
    },
    {
      "cell_type": "code",
      "source": [
        "plt.plot(K, distortions, 'bx-')\n",
        "plt.xlabel('Values of K')\n",
        "plt.ylabel('Distortion')\n",
        "plt.title('The Elbow Method using Distortion')\n",
        "plt.show()"
      ],
      "metadata": {
        "colab": {
          "base_uri": "https://localhost:8080/",
          "height": 295
        },
        "id": "Mo0zK5z3zBtb",
        "outputId": "ca6728c0-5432-4ca8-d6f2-642299647852"
      },
      "execution_count": 313,
      "outputs": [
        {
          "output_type": "display_data",
          "data": {
            "text/plain": [
              "<Figure size 432x288 with 1 Axes>"
            ],
            "image/png": "[encoded data removed]"
          },
          "metadata": {
            "needs_background": "light"
          }
        }
      ]
    },
    {
      "cell_type": "markdown",
      "source": [
        "# *From the above plot we see that the optimum number of clusters k is around 6*"
      ],
      "metadata": {
        "id": "R-6_SRYDc2PS"
      }
    },
    {
      "cell_type": "markdown",
      "source": [
        "## INERTIA"
      ],
      "metadata": {
        "id": "UOMAVfiK0PpL"
      }
    },
    {
      "cell_type": "markdown",
      "source": [
        "**Inertia: It is the sum of squared distances of samples to their closest cluster center**"
      ],
      "metadata": {
        "id": "DB-jWSjbbA5D"
      }
    },
    {
      "cell_type": "code",
      "source": [
        "for key, val in mapping2.items():\n",
        "    print(f'{key} : {val}')"
      ],
      "metadata": {
        "colab": {
          "base_uri": "https://localhost:8080/"
        },
        "id": "tvcL8BUy0OuH",
        "outputId": "73a66010-02a8-4bc8-8948-d9722b12688a"
      },
      "execution_count": 314,
      "outputs": [
        {
          "output_type": "stream",
          "name": "stdout",
          "text": [
            "1 : 292384.35263157886\n",
            "2 : 202491.06046616373\n",
            "3 : 136531.14039460564\n",
            "4 : 100127.9754111271\n",
            "5 : 73578.87640977443\n",
            "6 : 56507.73112589166\n",
            "7 : 49232.91522734484\n",
            "8 : 42481.33980278981\n",
            "9 : 38630.13917890388\n"
          ]
        }
      ]
    },
    {
      "cell_type": "code",
      "source": [
        "plt.plot(K, inertias, 'bx-')\n",
        "plt.xlabel('Values of K')\n",
        "plt.ylabel('Inertia')\n",
        "plt.title('The Elbow Method using Inertia')\n",
        "plt.show()"
      ],
      "metadata": {
        "colab": {
          "base_uri": "https://localhost:8080/",
          "height": 295
        },
        "id": "Fhf7lX0L0bIc",
        "outputId": "68ebc653-9a96-4d92-c8d3-57d8b1a1802c"
      },
      "execution_count": 315,
      "outputs": [
        {
          "output_type": "display_data",
          "data": {
            "text/plain": [
              "<Figure size 432x288 with 1 Axes>"
            ],
            "image/png": "[encoded data removed]"
          },
          "metadata": {
            "needs_background": "light"
          }
        }
      ]
    },
    {
      "cell_type": "markdown",
      "source": [
        "# *From the above plot we see that optimum number of clusters is around 6.*"
      ],
      "metadata": {
        "id": "HXPpRm2jdE3W"
      }
    },
    {
      "cell_type": "markdown",
      "source": [
        "# **Selection of k**"
      ],
      "metadata": {
        "id": "1TzbeIsZdciB"
      }
    },
    {
      "cell_type": "markdown",
      "source": [
        "**To determine the optimal number of clusters, we have to select the value of k at the “elbow”.That is the point after which the distortion/inertia start decreasing in a linear fashion. Thus for the given data, we conclude that the optimal number of clusters for the data is 6.**"
      ],
      "metadata": {
        "id": "7pPtcycbdf8f"
      }
    },
    {
      "cell_type": "code",
      "source": [
        "algorithm = KMeans(n_clusters=6)\n",
        "algorithm.fit(X_train)"
      ],
      "metadata": {
        "colab": {
          "base_uri": "https://localhost:8080/"
        },
        "id": "LrftgjdQtZzv",
        "outputId": "e2bc6327-436d-421a-f85e-2f75578d73a0"
      },
      "execution_count": 316,
      "outputs": [
        {
          "output_type": "execute_result",
          "data": {
            "text/plain": [
              "KMeans(n_clusters=6)"
            ]
          },
          "metadata": {},
          "execution_count": 316
        }
      ]
    },
    {
      "cell_type": "code",
      "source": [
        "#Algorithm\n",
        "algorithm.labels_"
      ],
      "metadata": {
        "colab": {
          "base_uri": "https://localhost:8080/"
        },
        "id": "2M5D5_-PZAaE",
        "outputId": "c47c80c6-b3fa-45e3-e6ec-7834289969cb"
      },
      "execution_count": 317,
      "outputs": [
        {
          "output_type": "execute_result",
          "data": {
            "text/plain": [
              "array([2, 3, 5, 5, 0, 1, 1, 5, 1, 0, 3, 3, 1, 3, 0, 3, 3, 3, 2, 4, 4, 0,\n",
              "       5, 2, 4, 3, 3, 4, 0, 0, 5, 0, 4, 2, 5, 0, 4, 2, 0, 3, 0, 2, 5, 2,\n",
              "       3, 4, 4, 5, 0, 0, 3, 0, 3, 1, 3, 0, 0, 3, 2, 0, 3, 0, 3, 0, 5, 0,\n",
              "       0, 4, 1, 3, 3, 0, 5, 3, 0, 0, 4, 0, 5, 3, 2, 4, 5, 0, 5, 5, 3, 2,\n",
              "       2, 2, 5, 3, 0, 4, 2, 0, 2, 0, 3, 1, 2, 2, 2, 0, 1, 3, 1, 5, 3, 4,\n",
              "       1, 2, 0, 2, 2, 0, 1, 0, 5, 5, 4, 2, 2, 2, 3, 3, 5, 2, 3, 1, 0, 0,\n",
              "       1, 0, 2, 1, 2, 5, 4, 2, 2, 3, 1, 4, 3, 0, 3, 5, 4, 4, 2, 3, 1, 5,\n",
              "       3, 5, 4, 2, 3, 3, 1, 2, 0, 0, 2, 5, 3, 0, 2, 1, 3, 2, 5, 5, 5, 1,\n",
              "       2, 5, 2, 0, 2, 4, 1, 1, 2, 0, 5, 0, 2, 5], dtype=int32)"
            ]
          },
          "metadata": {},
          "execution_count": 317
        }
      ]
    },
    {
      "cell_type": "code",
      "execution_count": 318,
      "metadata": {
        "execution": {
          "iopub.execute_input": "2022-04-12T14:48:35.931172Z",
          "iopub.status.busy": "2022-04-12T14:48:35.930395Z",
          "iopub.status.idle": "2022-04-12T14:48:35.935702Z",
          "shell.execute_reply": "2022-04-12T14:48:35.936257Z",
          "shell.execute_reply.started": "2022-04-12T14:46:58.104992Z"
        },
        "papermill": {
          "duration": 0.052369,
          "end_time": "2022-04-12T14:48:35.936469",
          "exception": false,
          "start_time": "2022-04-12T14:48:35.884100",
          "status": "completed"
        },
        "tags": [],
        "id": "770982dd",
        "outputId": "9ac6c87c-254b-4dc8-8a6a-99d181f74e04",
        "colab": {
          "base_uri": "https://localhost:8080/"
        }
      },
      "outputs": [
        {
          "output_type": "execute_result",
          "data": {
            "text/plain": [
              "array([[ 0.4047619 , 56.5952381 , 53.30952381, 49.64285714],\n",
              "       [ 0.42857143, 25.42857143, 26.14285714, 79.52380952],\n",
              "       [ 0.35897436, 27.41025641, 57.02564103, 48.76923077],\n",
              "       [ 0.44736842, 32.84210526, 86.5       , 82.47368421],\n",
              "       [ 0.4       , 43.25      , 26.2       , 20.1       ],\n",
              "       [ 0.53333333, 41.26666667, 89.23333333, 16.2       ]])"
            ]
          },
          "metadata": {},
          "execution_count": 318
        }
      ],
      "source": [
        "#Cluster centers \n",
        "algorithm.cluster_centers_"
      ]
    },
    {
      "cell_type": "code",
      "execution_count": 319,
      "metadata": {
        "execution": {
          "iopub.execute_input": "2022-04-12T14:48:36.028577Z",
          "iopub.status.busy": "2022-04-12T14:48:36.027853Z",
          "iopub.status.idle": "2022-04-12T14:48:36.030471Z",
          "shell.execute_reply": "2022-04-12T14:48:36.030968Z",
          "shell.execute_reply.started": "2022-04-12T14:46:58.143294Z"
        },
        "papermill": {
          "duration": 0.051544,
          "end_time": "2022-04-12T14:48:36.031157",
          "exception": false,
          "start_time": "2022-04-12T14:48:35.979613",
          "status": "completed"
        },
        "tags": [],
        "id": "40b83788",
        "outputId": "a95bdee7-5bda-439e-eb94-35599ce3bbe3",
        "colab": {
          "base_uri": "https://localhost:8080/"
        }
      },
      "outputs": [
        {
          "output_type": "execute_result",
          "data": {
            "text/plain": [
              "7"
            ]
          },
          "metadata": {},
          "execution_count": 319
        }
      ],
      "source": [
        "#Number of iterations made\n",
        "algorithm.n_iter_"
      ]
    },
    {
      "cell_type": "markdown",
      "source": [
        "# **Principal component analysis**"
      ],
      "metadata": {
        "id": "A5wNCTH4uc8n"
      }
    },
    {
      "cell_type": "markdown",
      "source": [
        "PCA is an algorithm that is used for dimensionality reduction - meaning, informally, that it can take in a DataFrame with many columns and return a DataFrame with a reduced number of columns that still retains much of the information from the columns of the original DataFrame. The columns of the DataFrame produced from the PCA procedure are called Principal Components. We will use these principal components to help us visualize our clusters in 1-D, 2-D, and 3-D space, since we cannot easily visualize the data we have in higher dimensions. For example, we can use two principal components to visualize the clusters in 2-D space, or three principal components to visualize the clusters in 3-D space."
      ],
      "metadata": {
        "id": "QHAjvUEf1Xoe"
      }
    },
    {
      "cell_type": "code",
      "execution_count": 320,
      "metadata": {
        "execution": {
          "iopub.execute_input": "2022-04-12T14:48:46.125520Z",
          "iopub.status.busy": "2022-04-12T14:48:46.124470Z",
          "iopub.status.idle": "2022-04-12T14:48:46.152227Z",
          "shell.execute_reply": "2022-04-12T14:48:46.152756Z",
          "shell.execute_reply.started": "2022-04-12T14:47:04.877512Z"
        },
        "papermill": {
          "duration": 0.087284,
          "end_time": "2022-04-12T14:48:46.152951",
          "exception": false,
          "start_time": "2022-04-12T14:48:46.065667",
          "status": "completed"
        },
        "tags": [],
        "id": "acd1526c",
        "outputId": "4fe14302-90ca-4685-d7dc-d79367c188e2",
        "colab": {
          "base_uri": "https://localhost:8080/"
        }
      },
      "outputs": [
        {
          "output_type": "execute_result",
          "data": {
            "text/plain": [
              "array([[-1.72684577e+00, -1.66294793e+01],\n",
              "       [ 2.75416607e+01, -8.06359542e+00],\n",
              "       [ 6.48886480e+00,  4.02086689e+01],\n",
              "       [-1.90526339e+01,  3.51256227e+01],\n",
              "       [-7.05313050e+00, -2.97506547e+00],\n",
              "       [ 1.21932098e+01, -6.10259530e+01],\n",
              "       [ 2.02330948e+01, -4.83339757e+01],\n",
              "       [-2.86794689e+01,  3.34084504e+01],\n",
              "       [ 3.59482616e+00, -3.51949662e+01],\n",
              "       [-1.05842203e+01, -4.47499045e-01],\n",
              "       [ 5.29219938e+01,  8.20343187e+00],\n",
              "       [ 4.80165271e+01, -1.41096285e+01],\n",
              "       [ 1.23491992e+00, -2.73577926e+01],\n",
              "       [ 2.92045002e+01,  5.84131817e-01],\n",
              "       [-1.00733015e+01, -1.06499771e+01],\n",
              "       [ 3.66299216e+01, -1.57965568e+01],\n",
              "       [ 5.05224996e+01,  3.77351187e+00],\n",
              "       [ 6.04629475e+01,  4.03667367e+00],\n",
              "       [ 1.02765502e+01,  3.06499549e+00],\n",
              "       [-3.25925148e+01, -3.14335537e+00],\n",
              "       [-3.50081051e+01, -2.35514544e+01],\n",
              "       [-1.95951488e+01, -7.52657262e+00],\n",
              "       [-1.75430230e+01,  3.40454468e+01],\n",
              "       [ 7.37502336e+00, -2.23906734e+00],\n",
              "       [-5.84462932e+01, -1.85556730e+00],\n",
              "       [ 5.21982209e+01,  1.48709845e+01],\n",
              "       [ 2.52825133e+01, -5.21535766e+00],\n",
              "       [-3.26535826e+01, -3.01561226e+01],\n",
              "       [-1.06336265e+01, -4.14318382e-01],\n",
              "       [-4.22044056e+00,  6.06544520e+00],\n",
              "       [-2.58494415e+01,  3.38394186e+01],\n",
              "       [-8.82922003e+00, -9.08463593e+00],\n",
              "       [-3.51054268e+01, -1.48724495e+01],\n",
              "       [ 1.61132441e+00,  3.11675424e+00],\n",
              "       [-3.11814880e+00,  3.47871957e+01],\n",
              "       [-4.24403488e+00, -1.35949847e+01],\n",
              "       [-6.67509984e+01, -3.28731639e+00],\n",
              "       [ 8.81832102e-01, -8.65784941e+00],\n",
              "       [-4.75634173e+00,  1.13663650e+01],\n",
              "       [ 3.87863635e+01, -8.73328408e+00],\n",
              "       [-1.53093616e+01, -3.21634176e+00],\n",
              "       [-9.09675091e+00,  1.81591511e+01],\n",
              "       [ 1.24882857e+01,  3.83745746e+01],\n",
              "       [ 1.02256954e+00, -1.38072539e+00],\n",
              "       [ 4.19711372e+01, -8.55228449e+00],\n",
              "       [-5.09953309e+01, -3.49840055e+00],\n",
              "       [-5.88385783e+01,  4.57624847e+00],\n",
              "       [-5.01327310e+00,  2.63078102e+01],\n",
              "       [-3.04897078e+01, -5.87641461e+00],\n",
              "       [-1.25910387e+01, -1.13102686e+01],\n",
              "       [ 2.51033050e+01, -5.08698108e+00],\n",
              "       [-4.94110162e+00,  2.88991616e+00],\n",
              "       [ 5.02159942e+01,  8.91080692e+00],\n",
              "       [ 1.61255734e+01, -5.76904407e+01],\n",
              "       [ 3.01503385e+01, -9.19654879e-02],\n",
              "       [-3.53436399e+00,  1.88391985e+00],\n",
              "       [-1.69597099e+01, -9.41328988e+00],\n",
              "       [ 4.66347718e+01, -8.20207397e+00],\n",
              "       [-2.59807288e+00, -2.09233691e+01],\n",
              "       [ 6.03968962e-01, -4.76729163e+00],\n",
              "       [ 2.51871381e+01, -1.45892724e+00],\n",
              "       [-2.94116791e+00,  2.31036504e-01],\n",
              "       [ 2.59355027e+01, -3.22388788e+00],\n",
              "       [-3.34227386e+00,  4.20528864e+00],\n",
              "       [-1.88651529e+01,  3.37600236e+01],\n",
              "       [-7.43597094e+00,  2.21642658e+00],\n",
              "       [-5.80716780e+00,  7.20188557e+00],\n",
              "       [-5.33986529e+01, -1.16173559e+01],\n",
              "       [-1.03118538e+01, -3.26185777e+01],\n",
              "       [ 4.29629446e+01, -1.29516316e+01],\n",
              "       [ 3.89835597e+01,  2.18696393e+01],\n",
              "       [-1.07741411e+01, -1.75298070e+01],\n",
              "       [-2.11223537e+01,  3.16856868e+01],\n",
              "       [ 5.75130663e+01,  3.19725702e+01],\n",
              "       [-1.01314259e+01,  1.02971553e+01],\n",
              "       [-1.21259210e+01, -7.95216595e+00],\n",
              "       [-5.82320512e+01, -1.30795136e+01],\n",
              "       [-1.49584431e+01, -7.15534576e+00],\n",
              "       [-2.85637138e+01,  3.57840162e+01],\n",
              "       [ 5.75766874e+01,  3.93059587e+01],\n",
              "       [-3.19221144e+00, -2.41883432e+01],\n",
              "       [-5.85637721e+01, -9.14692313e+00],\n",
              "       [ 5.39296402e+00,  6.92783981e+01],\n",
              "       [-5.95267551e+00, -8.68213132e+00],\n",
              "       [ 1.87616284e+01,  6.70881730e+01],\n",
              "       [-1.40592902e+01,  5.00000018e+01],\n",
              "       [ 4.53360684e+01,  1.33560190e+00],\n",
              "       [-7.34026003e+00,  1.81346579e+01],\n",
              "       [-9.23882147e+00,  5.96520331e+00],\n",
              "       [-4.96591608e+00,  7.82568879e+00],\n",
              "       [-2.86208409e+01,  4.19733106e+01],\n",
              "       [ 4.02243615e+01,  2.34407312e+01],\n",
              "       [-1.18103616e+01, -1.43287510e+01],\n",
              "       [-3.24607179e+01, -3.27542272e+01],\n",
              "       [-6.21881838e+00,  3.80278404e+00],\n",
              "       [-2.45528631e+00,  4.80269572e+00],\n",
              "       [ 3.14614042e+00, -2.90022803e+00],\n",
              "       [-1.16206087e+01, -7.08377390e+00],\n",
              "       [ 5.07728820e+01, -5.01492084e+00],\n",
              "       [ 2.20680351e+01, -4.34979097e+01],\n",
              "       [-9.23743346e+00, -8.79366837e+00],\n",
              "       [-1.76803710e+01, -1.25888189e+01],\n",
              "       [-1.73219543e+01, -1.28455721e+01],\n",
              "       [-9.40609715e+00, -1.29193811e+00],\n",
              "       [-3.05783420e-01, -4.96202974e+01],\n",
              "       [ 3.78974294e+01, -4.40811660e+00],\n",
              "       [-1.82311521e+00, -4.23840077e+01],\n",
              "       [-5.74870696e-01,  5.01853426e+01],\n",
              "       [ 3.83710426e+01, -1.21256011e+01],\n",
              "       [-3.32623817e+01, -2.11109367e+01],\n",
              "       [ 1.63857914e+00, -5.10114235e+01],\n",
              "       [-1.66488893e-01, -7.90860626e+00],\n",
              "       [ 3.00268184e+00, -3.35304143e-01],\n",
              "       [-6.41623732e+00, -1.69617748e+01],\n",
              "       [-4.23503576e+00,  4.84142077e+00],\n",
              "       [-3.31590350e+00, -5.65202481e+00],\n",
              "       [-2.45472729e+00, -5.30013193e+01],\n",
              "       [-8.07091758e+00,  1.12805613e+01],\n",
              "       [-7.58470023e+00,  3.55268822e+01],\n",
              "       [ 1.95616814e+01,  8.00421189e+01],\n",
              "       [-5.97560998e+01, -9.52754223e+00],\n",
              "       [ 2.60990349e+00, -1.72739700e+01],\n",
              "       [ 4.15776920e+00, -1.10038760e+01],\n",
              "       [-4.80613853e+00,  1.14005794e+01],\n",
              "       [ 4.24328178e+01, -8.88425098e+00],\n",
              "       [ 3.63872051e+01,  6.51145763e+00],\n",
              "       [-2.91584658e+01,  4.23584404e+01],\n",
              "       [-5.08549897e+00,  1.76108765e+00],\n",
              "       [ 7.14760371e+01,  4.28846502e+01],\n",
              "       [ 1.45905895e+01, -6.15107893e+01],\n",
              "       [ 6.52722269e+00,  3.29014197e+00],\n",
              "       [ 2.15643707e+00,  2.72364355e-01],\n",
              "       [ 1.09710093e+01, -4.17051433e+01],\n",
              "       [-1.89898522e+01, -6.72764311e+00],\n",
              "       [ 2.78911181e+00, -1.74023465e+01],\n",
              "       [ 4.93933818e-01, -5.63410133e+01],\n",
              "       [ 9.85545497e+00,  9.06217682e-01],\n",
              "       [-2.10139288e+01,  4.02163326e+01],\n",
              "       [-2.60683508e+01, -7.81232473e+00],\n",
              "       [-3.08345083e+00,  4.01696429e+00],\n",
              "       [-4.32524998e+00,  1.72037103e+01],\n",
              "       [ 4.84373996e+01, -2.11248610e+00],\n",
              "       [-7.73215399e+00, -4.30748722e+01],\n",
              "       [-3.30132194e+01, -5.30316692e+00],\n",
              "       [ 2.39467270e+01, -3.03105288e+00],\n",
              "       [-6.67545099e+00, -1.67724167e+01],\n",
              "       [ 3.31703416e+01, -2.25438476e+00],\n",
              "       [-2.92436321e+01,  3.38135627e+01],\n",
              "       [-4.71890991e+01, -7.44768538e-02],\n",
              "       [-3.44205155e+01, -1.41334677e+01],\n",
              "       [ 3.95929800e+00,  2.66509861e+00],\n",
              "       [ 3.94887591e+01, -6.77499496e+00],\n",
              "       [ 2.87954880e+00, -3.96030007e+01],\n",
              "       [-1.03280054e+01,  3.87192508e+01],\n",
              "       [ 4.07874625e+01, -1.63126708e+01],\n",
              "       [-1.59971038e+01,  4.52381153e+01],\n",
              "       [-5.58380060e+01,  6.11709637e+00],\n",
              "       [ 2.22428702e+00,  1.74352654e+01],\n",
              "       [ 2.61523524e+01,  1.38374037e+01],\n",
              "       [ 2.90572138e+01, -5.39979657e-01],\n",
              "       [ 1.30434502e+01, -4.81072553e+01],\n",
              "       [ 2.06550684e+00, -8.97463081e-01],\n",
              "       [-1.67768966e+01,  3.98573349e+00],\n",
              "       [-1.27575880e+01,  1.10621799e+00],\n",
              "       [ 5.36642628e+00,  1.65806856e+00],\n",
              "       [-1.19639161e+01,  3.00505073e+01],\n",
              "       [ 6.24191945e+01,  1.98531309e+01],\n",
              "       [-1.15048536e+01, -4.70820811e+00],\n",
              "       [-6.38609405e+00, -3.45435739e+00],\n",
              "       [ 7.41993019e+00, -4.53106068e+01],\n",
              "       [ 3.37898532e+01,  5.91111390e+00],\n",
              "       [-4.75499370e-01, -7.68503376e+00],\n",
              "       [-2.63326458e+00,  5.41166929e+01],\n",
              "       [-1.65077999e+01,  4.56022287e+01],\n",
              "       [ 3.38020338e+00,  4.98118369e+01],\n",
              "       [ 8.71936002e+00, -3.51746547e+01],\n",
              "       [-6.33279480e+00, -1.33326872e+01],\n",
              "       [-3.13156824e+01,  4.02146410e+01],\n",
              "       [ 6.53571818e+00, -7.78544513e+00],\n",
              "       [-9.12035564e+00, -7.64278978e+00],\n",
              "       [ 4.13833844e+00, -7.30060883e+00],\n",
              "       [-4.29730980e+01, -1.86306155e+00],\n",
              "       [-1.32990337e+00, -4.39674285e+01],\n",
              "       [-5.92891281e+00, -4.68246827e+01],\n",
              "       [ 6.33130476e+00, -2.72026218e+00],\n",
              "       [-1.48957645e+01, -4.73981479e+00],\n",
              "       [-2.51812290e+00,  6.63316570e+01],\n",
              "       [ 7.12869150e+00,  4.00036125e-01],\n",
              "       [-1.29976962e+01, -1.59408418e+01],\n",
              "       [-1.66024004e+01,  4.44391858e+01]])"
            ]
          },
          "metadata": {},
          "execution_count": 320
        }
      ],
      "source": [
        "from sklearn.decomposition import PCA\n",
        "pca = PCA(n_components = 2)\n",
        "data_2 = pca.fit_transform(X_train)\n",
        "data_2"
      ]
    },
    {
      "cell_type": "code",
      "source": [
        "import seaborn as sns"
      ],
      "metadata": {
        "id": "dysEAVH_2IXG"
      },
      "execution_count": 321,
      "outputs": []
    },
    {
      "cell_type": "code",
      "source": [
        "sns.pairplot(X_train)"
      ],
      "metadata": {
        "colab": {
          "base_uri": "https://localhost:8080/",
          "height": 745
        },
        "id": "oCAtASGy2ILz",
        "outputId": "3ead9b3b-53e6-454d-ca13-5893e39b3dc2"
      },
      "execution_count": 322,
      "outputs": [
        {
          "output_type": "execute_result",
          "data": {
            "text/plain": [
              "<seaborn.axisgrid.PairGrid at 0x7f6ed98e1b90>"
            ]
          },
          "metadata": {},
          "execution_count": 322
        },
        {
          "output_type": "display_data",
          "data": {
            "text/plain": [
              "<Figure size 720x720 with 20 Axes>"
            ],
            "image/png": "[encoded data removed]"
          },
          "metadata": {
            "needs_background": "light"
          }
        }
      ]
    },
    {
      "cell_type": "code",
      "execution_count": 323,
      "metadata": {
        "execution": {
          "iopub.execute_input": "2022-04-12T14:48:50.400402Z",
          "iopub.status.busy": "2022-04-12T14:48:50.399689Z",
          "iopub.status.idle": "2022-04-12T14:48:50.943968Z",
          "shell.execute_reply": "2022-04-12T14:48:50.944479Z",
          "shell.execute_reply.started": "2022-04-12T14:47:08.121263Z"
        },
        "papermill": {
          "duration": 0.609924,
          "end_time": "2022-04-12T14:48:50.944693",
          "exception": false,
          "start_time": "2022-04-12T14:48:50.334769",
          "status": "completed"
        },
        "tags": [],
        "id": "247fb603",
        "outputId": "12e5ff03-7f52-4224-8602-3bc7c898d687",
        "colab": {
          "base_uri": "https://localhost:8080/",
          "height": 518
        }
      },
      "outputs": [
        {
          "output_type": "stream",
          "name": "stderr",
          "text": [
            "/usr/local/lib/python3.7/dist-packages/seaborn/_decorators.py:43: FutureWarning: Pass the following variables as keyword args: x, y. From version 0.12, the only valid positional argument will be `data`, and passing other arguments without an explicit keyword will result in an error or misinterpretation.\n",
            "  FutureWarning\n"
          ]
        },
        {
          "output_type": "execute_result",
          "data": {
            "text/plain": [
              "<seaborn.axisgrid.JointGrid at 0x7f6ed917e350>"
            ]
          },
          "metadata": {},
          "execution_count": 323
        },
        {
          "output_type": "display_data",
          "data": {
            "text/plain": [
              "<Figure size 432x432 with 3 Axes>"
            ],
            "image/png": "[encoded data removed]"
          },
          "metadata": {
            "needs_background": "light"
          }
        }
      ],
      "source": [
        "sns.jointplot(data_2[:,0],data_2[:,1])"
      ]
    },
    {
      "cell_type": "code",
      "execution_count": 324,
      "metadata": {
        "execution": {
          "iopub.execute_input": "2022-04-12T14:48:51.071991Z",
          "iopub.status.busy": "2022-04-12T14:48:51.071229Z",
          "iopub.status.idle": "2022-04-12T14:48:51.073991Z",
          "shell.execute_reply": "2022-04-12T14:48:51.074502Z",
          "shell.execute_reply.started": "2022-04-12T14:47:08.614876Z"
        },
        "papermill": {
          "duration": 0.070281,
          "end_time": "2022-04-12T14:48:51.074693",
          "exception": false,
          "start_time": "2022-04-12T14:48:51.004412",
          "status": "completed"
        },
        "tags": [],
        "id": "240c17ab",
        "outputId": "68319769-99ef-4d84-bb0e-f887a46485fe",
        "colab": {
          "base_uri": "https://localhost:8080/"
        }
      },
      "outputs": [
        {
          "output_type": "execute_result",
          "data": {
            "text/plain": [
              "array([[-3.90649915e-04, -1.79208314e-01,  5.82038045e-01,\n",
              "         7.93168293e-01],\n",
              "       [ 1.03373976e-03,  1.28376580e-01,  8.13161319e-01,\n",
              "        -5.67703316e-01]])"
            ]
          },
          "metadata": {},
          "execution_count": 324
        }
      ],
      "source": [
        "pca.components_"
      ]
    },
    {
      "cell_type": "code",
      "execution_count": 325,
      "metadata": {
        "execution": {
          "iopub.execute_input": "2022-04-12T14:48:51.196730Z",
          "iopub.status.busy": "2022-04-12T14:48:51.196090Z",
          "iopub.status.idle": "2022-04-12T14:48:51.201802Z",
          "shell.execute_reply": "2022-04-12T14:48:51.202427Z",
          "shell.execute_reply.started": "2022-04-12T14:47:08.624634Z"
        },
        "papermill": {
          "duration": 0.068053,
          "end_time": "2022-04-12T14:48:51.202629",
          "exception": false,
          "start_time": "2022-04-12T14:48:51.134576",
          "status": "completed"
        },
        "tags": [],
        "id": "e84114fe",
        "outputId": "5e913f9c-6add-42c0-fd23-e6508a2b2581",
        "colab": {
          "base_uri": "https://localhost:8080/"
        }
      },
      "outputs": [
        {
          "output_type": "execute_result",
          "data": {
            "text/plain": [
              "array([0.45453298, 0.43379727])"
            ]
          },
          "metadata": {},
          "execution_count": 325
        }
      ],
      "source": [
        "pca.explained_variance_ratio_"
      ]
    },
    {
      "cell_type": "code",
      "execution_count": 326,
      "metadata": {
        "execution": {
          "iopub.execute_input": "2022-04-12T14:48:51.324409Z",
          "iopub.status.busy": "2022-04-12T14:48:51.323778Z",
          "iopub.status.idle": "2022-04-12T14:48:51.335959Z",
          "shell.execute_reply": "2022-04-12T14:48:51.336518Z",
          "shell.execute_reply.started": "2022-04-12T14:47:08.637206Z"
        },
        "papermill": {
          "duration": 0.074987,
          "end_time": "2022-04-12T14:48:51.336709",
          "exception": false,
          "start_time": "2022-04-12T14:48:51.261722",
          "status": "completed"
        },
        "tags": [],
        "id": "272ac395",
        "outputId": "efd3b0a8-5972-427b-80a4-a2e2a0c93a9a",
        "colab": {
          "base_uri": "https://localhost:8080/",
          "height": 423
        }
      },
      "outputs": [
        {
          "output_type": "execute_result",
          "data": {
            "text/plain": [
              "     Gender  Age  Annual Income (k$)  Spending Score (1-100)\n",
              "61        1   19                  46                      55\n",
              "125       0   31                  70                      77\n",
              "180       0   37                  97                      32\n",
              "154       0   47                  78                      16\n",
              "80        1   57                  54                      51\n",
              "..      ...  ...                 ...                     ...\n",
              "67        0   68                  48                      48\n",
              "192       1   33                 113                       8\n",
              "117       0   49                  65                      59\n",
              "47        0   27                  40                      47\n",
              "172       1   36                  87                      10\n",
              "\n",
              "[190 rows x 4 columns]"
            ],
            "text/html": [
              "\n",
              "  <div id=\"df-b2356f1e-9fa6-4185-95b7-f851314e9ebe\">\n",
              "    <div class=\"colab-df-container\">\n",
              "      <div>\n",
              "<style scoped>\n",
              "    .dataframe tbody tr th:only-of-type {\n",
              "        vertical-align: middle;\n",
              "    }\n",
              "\n",
              "    .dataframe tbody tr th {\n",
              "        vertical-align: top;\n",
              "    }\n",
              "\n",
              "    .dataframe thead th {\n",
              "        text-align: right;\n",
              "    }\n",
              "</style>\n",
              "<table border=\"1\" class=\"dataframe\">\n",
              "  <thead>\n",
              "    <tr style=\"text-align: right;\">\n",
              "      <th></th>\n",
              "      <th>Gender</th>\n",
              "      <th>Age</th>\n",
              "      <th>Annual Income (k$)</th>\n",
              "      <th>Spending Score (1-100)</th>\n",
              "    </tr>\n",
              "  </thead>\n",
              "  <tbody>\n",
              "    <tr>\n",
              "      <th>61</th>\n",
              "      <td>1</td>\n",
              "      <td>19</td>\n",
              "      <td>46</td>\n",
              "      <td>55</td>\n",
              "    </tr>\n",
              "    <tr>\n",
              "      <th>125</th>\n",
              "      <td>0</td>\n",
              "      <td>31</td>\n",
              "      <td>70</td>\n",
              "      <td>77</td>\n",
              "    </tr>\n",
              "    <tr>\n",
              "      <th>180</th>\n",
              "      <td>0</td>\n",
              "      <td>37</td>\n",
              "      <td>97</td>\n",
              "      <td>32</td>\n",
              "    </tr>\n",
              "    <tr>\n",
              "      <th>154</th>\n",
              "      <td>0</td>\n",
              "      <td>47</td>\n",
              "      <td>78</td>\n",
              "      <td>16</td>\n",
              "    </tr>\n",
              "    <tr>\n",
              "      <th>80</th>\n",
              "      <td>1</td>\n",
              "      <td>57</td>\n",
              "      <td>54</td>\n",
              "      <td>51</td>\n",
              "    </tr>\n",
              "    <tr>\n",
              "      <th>...</th>\n",
              "      <td>...</td>\n",
              "      <td>...</td>\n",
              "      <td>...</td>\n",
              "      <td>...</td>\n",
              "    </tr>\n",
              "    <tr>\n",
              "      <th>67</th>\n",
              "      <td>0</td>\n",
              "      <td>68</td>\n",
              "      <td>48</td>\n",
              "      <td>48</td>\n",
              "    </tr>\n",
              "    <tr>\n",
              "      <th>192</th>\n",
              "      <td>1</td>\n",
              "      <td>33</td>\n",
              "      <td>113</td>\n",
              "      <td>8</td>\n",
              "    </tr>\n",
              "    <tr>\n",
              "      <th>117</th>\n",
              "      <td>0</td>\n",
              "      <td>49</td>\n",
              "      <td>65</td>\n",
              "      <td>59</td>\n",
              "    </tr>\n",
              "    <tr>\n",
              "      <th>47</th>\n",
              "      <td>0</td>\n",
              "      <td>27</td>\n",
              "      <td>40</td>\n",
              "      <td>47</td>\n",
              "    </tr>\n",
              "    <tr>\n",
              "      <th>172</th>\n",
              "      <td>1</td>\n",
              "      <td>36</td>\n",
              "      <td>87</td>\n",
              "      <td>10</td>\n",
              "    </tr>\n",
              "  </tbody>\n",
              "</table>\n",
              "<p>190 rows × 4 columns</p>\n",
              "</div>\n",
              "      <button class=\"colab-df-convert\" onclick=\"convertToInteractive('df-b2356f1e-9fa6-4185-95b7-f851314e9ebe')\"\n",
              "              title=\"Convert this dataframe to an interactive table.\"\n",
              "              style=\"display:none;\">\n",
              "        \n",
              "  <svg xmlns=\"http://www.w3.org/2000/svg\" height=\"24px\"viewBox=\"0 0 24 24\"\n",
              "       width=\"24px\">\n",
              "    <path d=\"M0 0h24v24H0V0z\" fill=\"none\"/>\n",
              "    <path d=\"M18.56 5.44l.94 2.06.94-2.06 2.06-.94-2.06-.94-.94-2.06-.94 2.06-2.06.94zm-11 1L8.5 8.5l.94-2.06 2.06-.94-2.06-.94L8.5 2.5l-.94 2.06-2.06.94zm10 10l.94 2.06.94-2.06 2.06-.94-2.06-.94-.94-2.06-.94 2.06-2.06.94z\"/><path d=\"M17.41 7.96l-1.37-1.37c-.4-.4-.92-.59-1.43-.59-.52 0-1.04.2-1.43.59L10.3 9.45l-7.72 7.72c-.78.78-.78 2.05 0 2.83L4 21.41c.39.39.9.59 1.41.59.51 0 1.02-.2 1.41-.59l7.78-7.78 2.81-2.81c.8-.78.8-2.07 0-2.86zM5.41 20L4 18.59l7.72-7.72 1.47 1.35L5.41 20z\"/>\n",
              "  </svg>\n",
              "      </button>\n",
              "      \n",
              "  <style>\n",
              "    .colab-df-container {\n",
              "      display:flex;\n",
              "      flex-wrap:wrap;\n",
              "      gap: 12px;\n",
              "    }\n",
              "\n",
              "    .colab-df-convert {\n",
              "      background-color: #E8F0FE;\n",
              "      border: none;\n",
              "      border-radius: 50%;\n",
              "      cursor: pointer;\n",
              "      display: none;\n",
              "      fill: #1967D2;\n",
              "      height: 32px;\n",
              "      padding: 0 0 0 0;\n",
              "      width: 32px;\n",
              "    }\n",
              "\n",
              "    .colab-df-convert:hover {\n",
              "      background-color: #E2EBFA;\n",
              "      box-shadow: 0px 1px 2px rgba(60, 64, 67, 0.3), 0px 1px 3px 1px rgba(60, 64, 67, 0.15);\n",
              "      fill: #174EA6;\n",
              "    }\n",
              "\n",
              "    [theme=dark] .colab-df-convert {\n",
              "      background-color: #3B4455;\n",
              "      fill: #D2E3FC;\n",
              "    }\n",
              "\n",
              "    [theme=dark] .colab-df-convert:hover {\n",
              "      background-color: #434B5C;\n",
              "      box-shadow: 0px 1px 3px 1px rgba(0, 0, 0, 0.15);\n",
              "      filter: drop-shadow(0px 1px 2px rgba(0, 0, 0, 0.3));\n",
              "      fill: #FFFFFF;\n",
              "    }\n",
              "  </style>\n",
              "\n",
              "      <script>\n",
              "        const buttonEl =\n",
              "          document.querySelector('#df-b2356f1e-9fa6-4185-95b7-f851314e9ebe button.colab-df-convert');\n",
              "        buttonEl.style.display =\n",
              "          google.colab.kernel.accessAllowed ? 'block' : 'none';\n",
              "\n",
              "        async function convertToInteractive(key) {\n",
              "          const element = document.querySelector('#df-b2356f1e-9fa6-4185-95b7-f851314e9ebe');\n",
              "          const dataTable =\n",
              "            await google.colab.kernel.invokeFunction('convertToInteractive',\n",
              "                                                     [key], {});\n",
              "          if (!dataTable) return;\n",
              "\n",
              "          const docLinkHtml = 'Like what you see? Visit the ' +\n",
              "            '<a target=\"_blank\" href=https://colab.research.google.com/notebooks/data_table.ipynb>data table notebook</a>'\n",
              "            + ' to learn more about interactive tables.';\n",
              "          element.innerHTML = '';\n",
              "          dataTable['output_type'] = 'display_data';\n",
              "          await google.colab.output.renderOutput(dataTable, element);\n",
              "          const docLink = document.createElement('div');\n",
              "          docLink.innerHTML = docLinkHtml;\n",
              "          element.appendChild(docLink);\n",
              "        }\n",
              "      </script>\n",
              "    </div>\n",
              "  </div>\n",
              "  "
            ]
          },
          "metadata": {},
          "execution_count": 326
        }
      ],
      "source": [
        "X_train"
      ]
    },
    {
      "cell_type": "code",
      "execution_count": 327,
      "metadata": {
        "execution": {
          "iopub.execute_input": "2022-04-12T14:48:51.460677Z",
          "iopub.status.busy": "2022-04-12T14:48:51.459967Z",
          "iopub.status.idle": "2022-04-12T14:48:51.475539Z",
          "shell.execute_reply": "2022-04-12T14:48:51.476134Z",
          "shell.execute_reply.started": "2022-04-12T14:47:08.654532Z"
        },
        "papermill": {
          "duration": 0.078992,
          "end_time": "2022-04-12T14:48:51.476330",
          "exception": false,
          "start_time": "2022-04-12T14:48:51.397338",
          "status": "completed"
        },
        "tags": [],
        "id": "9e9c0cf1",
        "outputId": "62d90649-439d-4fd8-8cb4-a71c48d6a4df",
        "colab": {
          "base_uri": "https://localhost:8080/",
          "height": 207
        }
      },
      "outputs": [
        {
          "output_type": "execute_result",
          "data": {
            "text/plain": [
              "   principal component 1  principal component 2  target\n",
              "0              -1.726846             -16.629479       2\n",
              "1              27.541661              -8.063595       3\n",
              "2               6.488865              40.208669       5\n",
              "3             -19.052634              35.125623       5\n",
              "4              -7.053131              -2.975065       0"
            ],
            "text/html": [
              "\n",
              "  <div id=\"df-7b809498-b6b4-4cf2-9ff8-65f269e14d2c\">\n",
              "    <div class=\"colab-df-container\">\n",
              "      <div>\n",
              "<style scoped>\n",
              "    .dataframe tbody tr th:only-of-type {\n",
              "        vertical-align: middle;\n",
              "    }\n",
              "\n",
              "    .dataframe tbody tr th {\n",
              "        vertical-align: top;\n",
              "    }\n",
              "\n",
              "    .dataframe thead th {\n",
              "        text-align: right;\n",
              "    }\n",
              "</style>\n",
              "<table border=\"1\" class=\"dataframe\">\n",
              "  <thead>\n",
              "    <tr style=\"text-align: right;\">\n",
              "      <th></th>\n",
              "      <th>principal component 1</th>\n",
              "      <th>principal component 2</th>\n",
              "      <th>target</th>\n",
              "    </tr>\n",
              "  </thead>\n",
              "  <tbody>\n",
              "    <tr>\n",
              "      <th>0</th>\n",
              "      <td>-1.726846</td>\n",
              "      <td>-16.629479</td>\n",
              "      <td>2</td>\n",
              "    </tr>\n",
              "    <tr>\n",
              "      <th>1</th>\n",
              "      <td>27.541661</td>\n",
              "      <td>-8.063595</td>\n",
              "      <td>3</td>\n",
              "    </tr>\n",
              "    <tr>\n",
              "      <th>2</th>\n",
              "      <td>6.488865</td>\n",
              "      <td>40.208669</td>\n",
              "      <td>5</td>\n",
              "    </tr>\n",
              "    <tr>\n",
              "      <th>3</th>\n",
              "      <td>-19.052634</td>\n",
              "      <td>35.125623</td>\n",
              "      <td>5</td>\n",
              "    </tr>\n",
              "    <tr>\n",
              "      <th>4</th>\n",
              "      <td>-7.053131</td>\n",
              "      <td>-2.975065</td>\n",
              "      <td>0</td>\n",
              "    </tr>\n",
              "  </tbody>\n",
              "</table>\n",
              "</div>\n",
              "      <button class=\"colab-df-convert\" onclick=\"convertToInteractive('df-7b809498-b6b4-4cf2-9ff8-65f269e14d2c')\"\n",
              "              title=\"Convert this dataframe to an interactive table.\"\n",
              "              style=\"display:none;\">\n",
              "        \n",
              "  <svg xmlns=\"http://www.w3.org/2000/svg\" height=\"24px\"viewBox=\"0 0 24 24\"\n",
              "       width=\"24px\">\n",
              "    <path d=\"M0 0h24v24H0V0z\" fill=\"none\"/>\n",
              "    <path d=\"M18.56 5.44l.94 2.06.94-2.06 2.06-.94-2.06-.94-.94-2.06-.94 2.06-2.06.94zm-11 1L8.5 8.5l.94-2.06 2.06-.94-2.06-.94L8.5 2.5l-.94 2.06-2.06.94zm10 10l.94 2.06.94-2.06 2.06-.94-2.06-.94-.94-2.06-.94 2.06-2.06.94z\"/><path d=\"M17.41 7.96l-1.37-1.37c-.4-.4-.92-.59-1.43-.59-.52 0-1.04.2-1.43.59L10.3 9.45l-7.72 7.72c-.78.78-.78 2.05 0 2.83L4 21.41c.39.39.9.59 1.41.59.51 0 1.02-.2 1.41-.59l7.78-7.78 2.81-2.81c.8-.78.8-2.07 0-2.86zM5.41 20L4 18.59l7.72-7.72 1.47 1.35L5.41 20z\"/>\n",
              "  </svg>\n",
              "      </button>\n",
              "      \n",
              "  <style>\n",
              "    .colab-df-container {\n",
              "      display:flex;\n",
              "      flex-wrap:wrap;\n",
              "      gap: 12px;\n",
              "    }\n",
              "\n",
              "    .colab-df-convert {\n",
              "      background-color: #E8F0FE;\n",
              "      border: none;\n",
              "      border-radius: 50%;\n",
              "      cursor: pointer;\n",
              "      display: none;\n",
              "      fill: #1967D2;\n",
              "      height: 32px;\n",
              "      padding: 0 0 0 0;\n",
              "      width: 32px;\n",
              "    }\n",
              "\n",
              "    .colab-df-convert:hover {\n",
              "      background-color: #E2EBFA;\n",
              "      box-shadow: 0px 1px 2px rgba(60, 64, 67, 0.3), 0px 1px 3px 1px rgba(60, 64, 67, 0.15);\n",
              "      fill: #174EA6;\n",
              "    }\n",
              "\n",
              "    [theme=dark] .colab-df-convert {\n",
              "      background-color: #3B4455;\n",
              "      fill: #D2E3FC;\n",
              "    }\n",
              "\n",
              "    [theme=dark] .colab-df-convert:hover {\n",
              "      background-color: #434B5C;\n",
              "      box-shadow: 0px 1px 3px 1px rgba(0, 0, 0, 0.15);\n",
              "      filter: drop-shadow(0px 1px 2px rgba(0, 0, 0, 0.3));\n",
              "      fill: #FFFFFF;\n",
              "    }\n",
              "  </style>\n",
              "\n",
              "      <script>\n",
              "        const buttonEl =\n",
              "          document.querySelector('#df-7b809498-b6b4-4cf2-9ff8-65f269e14d2c button.colab-df-convert');\n",
              "        buttonEl.style.display =\n",
              "          google.colab.kernel.accessAllowed ? 'block' : 'none';\n",
              "\n",
              "        async function convertToInteractive(key) {\n",
              "          const element = document.querySelector('#df-7b809498-b6b4-4cf2-9ff8-65f269e14d2c');\n",
              "          const dataTable =\n",
              "            await google.colab.kernel.invokeFunction('convertToInteractive',\n",
              "                                                     [key], {});\n",
              "          if (!dataTable) return;\n",
              "\n",
              "          const docLinkHtml = 'Like what you see? Visit the ' +\n",
              "            '<a target=\"_blank\" href=https://colab.research.google.com/notebooks/data_table.ipynb>data table notebook</a>'\n",
              "            + ' to learn more about interactive tables.';\n",
              "          element.innerHTML = '';\n",
              "          dataTable['output_type'] = 'display_data';\n",
              "          await google.colab.output.renderOutput(dataTable, element);\n",
              "          const docLink = document.createElement('div');\n",
              "          docLink.innerHTML = docLinkHtml;\n",
              "          element.appendChild(docLink);\n",
              "        }\n",
              "      </script>\n",
              "    </div>\n",
              "  </div>\n",
              "  "
            ]
          },
          "metadata": {},
          "execution_count": 327
        }
      ],
      "source": [
        "from sklearn.decomposition import PCA\n",
        "\n",
        "pca=PCA(n_components=2)\n",
        "pc=pca.fit_transform(X_train)\n",
        "\n",
        "pdf=pd.DataFrame(data=pc,columns=['principal component 1','principal component 2'])\n",
        "target=pd.DataFrame(algorithm.labels_,columns=['target'])\n",
        "X_=pd.concat([pdf,target],axis=1)\n",
        "X_.head()"
      ]
    },
    {
      "cell_type": "code",
      "execution_count": 328,
      "metadata": {
        "execution": {
          "iopub.execute_input": "2022-04-12T14:48:51.604055Z",
          "iopub.status.busy": "2022-04-12T14:48:51.603351Z",
          "iopub.status.idle": "2022-04-12T14:48:51.977844Z",
          "shell.execute_reply": "2022-04-12T14:48:51.978405Z",
          "shell.execute_reply.started": "2022-04-12T14:47:08.671866Z"
        },
        "papermill": {
          "duration": 0.44011,
          "end_time": "2022-04-12T14:48:51.978614",
          "exception": false,
          "start_time": "2022-04-12T14:48:51.538504",
          "status": "completed"
        },
        "tags": [],
        "id": "cdca414e",
        "outputId": "240fdc6a-95e3-43f6-831c-8fddf1a3545b",
        "colab": {
          "base_uri": "https://localhost:8080/",
          "height": 523
        }
      },
      "outputs": [
        {
          "output_type": "display_data",
          "data": {
            "text/plain": [
              "<Figure size 576x576 with 1 Axes>"
            ],
            "image/png": "[encoded data removed]"
          },
          "metadata": {
            "needs_background": "light"
          }
        }
      ],
      "source": [
        "import matplotlib.pyplot as plt\n",
        "\n",
        "fig = plt.figure(figsize = (8,8))\n",
        "ax = fig.add_subplot(1,1,1) \n",
        "ax.set_xlabel('Principal Component 1', fontsize = 15)\n",
        "ax.set_ylabel('Principal Component 2', fontsize = 15)\n",
        "ax.set_title('Visualizing', fontsize = 20)\n",
        "targets = [0,1,2,3,4,5]\n",
        "colors = ['r', 'g','b','k','y','c']\n",
        "for target, color in zip(targets,colors):\n",
        "    indicesToKeep = X_['target'] == target\n",
        "    ax.scatter(X_.loc[indicesToKeep,'principal component 1']\n",
        "               , X_.loc[indicesToKeep,'principal component 2']\n",
        "               , c = color\n",
        "               , s = 50)\n",
        "ax.legend(targets)\n",
        "ax.grid()"
      ]
    },
    {
      "cell_type": "markdown",
      "source": [
        "**Predicting on the test data**"
      ],
      "metadata": {
        "id": "ygtUB3Uo8fNq"
      }
    },
    {
      "cell_type": "code",
      "source": [
        "y_pred = algorithm.predict(X_test)\n",
        "print(\"Input data\\n\",X_test)\n",
        "print(\"Predicted cluster\\n\",y_pred)"
      ],
      "metadata": {
        "colab": {
          "base_uri": "https://localhost:8080/"
        },
        "id": "R7lbwNZo7M3g",
        "outputId": "c0077128-0805-4051-d5d3-51c25cdea1e1"
      },
      "execution_count": 338,
      "outputs": [
        {
          "output_type": "stream",
          "name": "stdout",
          "text": [
            "Input data\n",
            "      Gender  Age  Annual Income (k$)  Spending Score (1-100)\n",
            "18        1   52                  23                      29\n",
            "170       1   40                  87                      13\n",
            "107       1   54                  63                      46\n",
            "98        1   48                  61                      42\n",
            "177       1   27                  88                      69\n",
            "182       1   46                  98                      15\n",
            "5         0   22                  17                      76\n",
            "146       1   48                  77                      36\n",
            "12        0   58                  20                      15\n",
            "152       0   44                  78                      20\n",
            "Predicted cluster\n",
            " [4 5 0 0 3 5 1 5 4 5]\n"
          ]
        }
      ]
    },
    {
      "cell_type": "markdown",
      "source": [
        "# **Generating pickle file to deploy on streamlit**"
      ],
      "metadata": {
        "id": "YpaDlURa8vba"
      }
    },
    {
      "cell_type": "code",
      "source": [
        "import pickle \n",
        "pickle_out = open(\"KMeans_customer_deployed\", mode = \"wb\") \n",
        "pickle.dump(algorithm, pickle_out) \n",
        "pickle_out.close()"
      ],
      "metadata": {
        "id": "_OaHF5yq8oZ3"
      },
      "execution_count": 340,
      "outputs": []
    },
    {
      "cell_type": "code",
      "source": [
        "#!pip3 freeze requirements.txt"
      ],
      "metadata": {
        "id": "jRg6uMZw97kA"
      },
      "execution_count": 343,
      "outputs": []
    },
    {
      "cell_type": "code",
      "source": [
        ""
      ],
      "metadata": {
        "id": "7d6Kx1-q_ksQ"
      },
      "execution_count": null,
      "outputs": []
    }
  ]
}